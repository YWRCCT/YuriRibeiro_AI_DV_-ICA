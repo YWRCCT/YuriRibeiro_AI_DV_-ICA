{
 "cells": [
  {
   "cell_type": "code",
   "execution_count": 64,
   "id": "68cd5610",
   "metadata": {},
   "outputs": [
    {
     "name": "stdout",
     "output_type": "stream",
     "text": [
      "Requirement already satisfied: ortools in f:\\anaconda\\lib\\site-packages (9.8.3296)\n",
      "Requirement already satisfied: absl-py>=2.0.0 in f:\\anaconda\\lib\\site-packages (from ortools) (2.0.0)\n",
      "Requirement already satisfied: numpy>=1.13.3 in f:\\anaconda\\lib\\site-packages (from ortools) (1.24.3)\n",
      "Requirement already satisfied: pandas>=2.0.0 in f:\\anaconda\\lib\\site-packages (from ortools) (2.0.3)\n",
      "Requirement already satisfied: protobuf>=4.25.0 in f:\\anaconda\\lib\\site-packages (from ortools) (4.25.1)\n",
      "Requirement already satisfied: python-dateutil>=2.8.2 in f:\\anaconda\\lib\\site-packages (from pandas>=2.0.0->ortools) (2.8.2)\n",
      "Requirement already satisfied: pytz>=2020.1 in f:\\anaconda\\lib\\site-packages (from pandas>=2.0.0->ortools) (2023.3.post1)\n",
      "Requirement already satisfied: tzdata>=2022.1 in f:\\anaconda\\lib\\site-packages (from pandas>=2.0.0->ortools) (2023.3)\n",
      "Requirement already satisfied: six>=1.5 in f:\\anaconda\\lib\\site-packages (from python-dateutil>=2.8.2->pandas>=2.0.0->ortools) (1.16.0)\n"
     ]
    }
   ],
   "source": [
    "# !pip install ortools\n"
   ]
  },
  {
   "cell_type": "markdown",
   "id": "cfbdd7f3",
   "metadata": {},
   "source": [
    "# Scenario 1\n"
   ]
  },
  {
   "cell_type": "code",
   "execution_count": 61,
   "id": "59d89bd1",
   "metadata": {},
   "outputs": [
    {
     "name": "stdout",
     "output_type": "stream",
     "text": [
      "No solution found!\n"
     ]
    }
   ],
   "source": [
    "from ortools.sat.python import cp_model\n",
    "\"\"\"\n",
    "    Scanario 1\n",
    "    \n",
    "    Additional Constraints:\n",
    "    - Ciara knows Python.\n",
    "    - Ciara has funds to hire only three more people.\n",
    "\n",
    "    \"\"\"\n",
    "def scenario1():\n",
    "    # Create the CP-SAT model\n",
    "    model = cp_model.CpModel()\n",
    "\n",
    "    # Roles and the number of positions\n",
    "    roles = ['Python Programmer', 'AI Engineer', 'Web Designer', 'Database Admin', 'Systems Engineer']\n",
    "    positions = {'Python Programmer': 2, 'AI Engineer': 2, 'Web Designer': 1, 'Database Admin': 1, 'Systems Engineer': 1}\n",
    "\n",
    "    # candidates and their abilities\n",
    "    candidates = {\n",
    "        'Peter': ['Python', 'AI'],\n",
    "        'Juan': ['Web', 'AI'],\n",
    "        'Jim': ['AI', 'Systems'],\n",
    "        'Jane': ['Python', 'Database'],\n",
    "        'Mary': ['Web', 'Systems'],\n",
    "        'Bruce': ['Systems', 'Python'],\n",
    "        'Anita': ['Web', 'AI']\n",
    "    }\n",
    "\n",
    "    # variables\n",
    "    assignments = {(person, role): model.NewBoolVar(f'{person}_{role}') for person in candidates for role in roles}\n",
    "\n",
    "    # constraints\n",
    "    for role, count in positions.items():\n",
    "        model.Add(sum(assignments[(person, role)] for person in candidates) == count)\n",
    "\n",
    "    for person, abilities in candidates.items():\n",
    "        for role in roles:\n",
    "            # Each candidate can only be assigned to a role if they have the required abilities\n",
    "            model.AddBoolOr([assignments[(person, role)] for ability in abilities if ability in role.lower()])\n",
    "\n",
    "    # Additional constraint: Ciara knows Python, and only has funds to hire three more candidates\n",
    "    python_candidates = ['Peter', 'Jane', 'Bruce']\n",
    "    model.Add(sum(assignments[(person, 'Python Programmer')] for person in python_candidates) == 1)\n",
    "\n",
    "    # Additional constraint: Ciara can only hire three more people\n",
    "    model.Add(sum(assignments[(person, role)] for person in candidates for role in roles) == 3)\n",
    "\n",
    "    # solve the problem\n",
    "    solver = cp_model.CpSolver()\n",
    "    status = solver.Solve(model)\n",
    "\n",
    "    # Print the result\n",
    "    if status == cp_model.FEASIBLE:\n",
    "        for person, role in assignments:\n",
    "            if solver.Value(assignments[(person, role)]) == 1:\n",
    "                print(f'{person} is assigned to {role}')\n",
    "    else:\n",
    "        print('No solution found!')\n",
    "\n",
    "scenario1()\n"
   ]
  },
  {
   "cell_type": "markdown",
   "id": "17782216",
   "metadata": {},
   "source": [
    "# Scenario 2"
   ]
  },
  {
   "cell_type": "code",
   "execution_count": 63,
   "id": "a0daf459",
   "metadata": {},
   "outputs": [
    {
     "name": "stdout",
     "output_type": "stream",
     "text": [
      "No solution found!\n"
     ]
    }
   ],
   "source": [
    "from ortools.sat.python import cp_model\n",
    "\n",
    "def scenario2():\n",
    "    \"\"\"\n",
    " \n",
    "    Additional Constraints for Scenario 2:\n",
    "    - Ciara and Juan become partners.\n",
    "    - Additional funds allow them to employ four more people.\n",
    "    - Must employ another AI Engineer.\n",
    "    - Positions needed: 2 Python Programmers, 3 AI Engineers, 1 Web Designer, 1 Database Admin, 1 Systems Engineer.\n",
    "    \"\"\"\n",
    "    # Create the CP-SAT model\n",
    "    model = cp_model.CpModel()\n",
    "\n",
    "    # Roles and the number of positions\n",
    "    roles = ['Python Programmer', 'AI Engineer', 'Web Designer', 'Database Admin', 'Systems Engineer']\n",
    "    positions = {'Python Programmer': 2, 'AI Engineer': 3, 'Web Designer': 1, 'Database Admin': 1, 'Systems Engineer': 1}\n",
    "\n",
    "    # candidates and their abilities including Ciara and Juan\n",
    "    candidates = {\n",
    "        'Peter': ['Python', 'AI'],\n",
    "        'Juan': ['Web', 'AI'],\n",
    "        'Jim': ['AI', 'Systems'],\n",
    "        'Jane': ['Python', 'Database'],\n",
    "        'Mary': ['Web', 'Systems'],\n",
    "        'Bruce': ['Systems', 'Python'],\n",
    "        'Anita': ['Web', 'AI'],\n",
    "        'Ciara': ['Python'],  \n",
    "        'Juan': ['Web', 'AI'] \n",
    "    }\n",
    "\n",
    "    # variables \n",
    "    assignments = {(person, role): model.NewBoolVar(f'{person}_{role}') for person in candidates for role in roles}\n",
    "\n",
    "    # constraints\n",
    "    for role, count in positions.items():\n",
    "        model.Add(sum(assignments[(person, role)] for person in candidates) == count)\n",
    "\n",
    "    for person, abilities in candidates.items():\n",
    "        for role in roles:\n",
    "            #  # Each candidate can only be assigned to a role if they have the required abilities\n",
    "            model.AddBoolOr([assignments[(person, role)] for ability in abilities if ability in role.lower()])\n",
    "\n",
    "   # Additional constraint: Ciara and Juan are partners\n",
    "    model.Add(assignments[('Ciara', 'Python Programmer')] == 1)\n",
    "    model.Add(assignments[('Juan', 'AI Engineer')] == 1)\n",
    "    model.Add(assignments[('Juan', 'Web Designer')] == 1)\n",
    "\n",
    "    # Additional constraint: Additional funds allow them to hire four people\n",
    "    model.Add(sum(assignments[(person, role)] for person in candidates for role in roles) == 4)\n",
    "\n",
    "    # solve the problem\n",
    "    solver = cp_model.CpSolver()\n",
    "    status = solver.Solve(model)\n",
    "\n",
    "    # result\n",
    "    if status == cp_model.FEASIBLE:\n",
    "        for person, role in assignments:\n",
    "            if solver.Value(assignments[(person, role)]) == 1:\n",
    "                print(f'{person} is assigned as {role}')\n",
    "    else:\n",
    "        print('No solution found!')\n",
    "\n",
    "\n",
    "scenario2()\n",
    "\n"
   ]
  },
  {
   "cell_type": "code",
   "execution_count": null,
   "id": "c2d55d5f",
   "metadata": {},
   "outputs": [],
   "source": []
  }
 ],
 "metadata": {
  "kernelspec": {
   "display_name": "Python 3 (ipykernel)",
   "language": "python",
   "name": "python3"
  },
  "language_info": {
   "codemirror_mode": {
    "name": "ipython",
    "version": 3
   },
   "file_extension": ".py",
   "mimetype": "text/x-python",
   "name": "python",
   "nbconvert_exporter": "python",
   "pygments_lexer": "ipython3",
   "version": "3.11.5"
  }
 },
 "nbformat": 4,
 "nbformat_minor": 5
}
