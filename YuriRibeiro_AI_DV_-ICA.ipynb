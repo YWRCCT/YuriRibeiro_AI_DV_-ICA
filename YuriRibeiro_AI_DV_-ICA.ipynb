{
 "cells": [
  {
   "cell_type": "code",
   "execution_count": 1,
   "id": "b06edbac",
   "metadata": {},
   "outputs": [],
   "source": [
    "# !pip install ortools\n"
   ]
  },
  {
   "cell_type": "markdown",
   "id": "ed37dc31",
   "metadata": {},
   "source": [
    "# Scenario 1\n"
   ]
  },
  {
   "cell_type": "code",
   "execution_count": 118,
   "id": "83ca99bc",
   "metadata": {},
   "outputs": [
    {
     "name": "stdout",
     "output_type": "stream",
     "text": [
      "Combination:\n",
      "Jane: Python, Database\n",
      "Jim: AI, Systems\n",
      "Juan: Web, AI\n",
      "\n",
      "Combination:\n",
      "Anita: Web, AI\n",
      "Jane: Python, Database\n",
      "Jim: AI, Systems\n",
      "\n"
     ]
    }
   ],
   "source": [
    "from ortools.sat.python import cp_model\n",
    "from itertools import combinations\n",
    "\n",
    "# List of the people and abilities\n",
    "people_abilities = {\n",
    "    \"Ciara\": [\"Python\"],\n",
    "    \"Peter\": [\"Python\", \"AI\"],\n",
    "    \"Juan\": [\"Web\", \"AI\"],\n",
    "    \"Jim\": [\"AI\", \"Systems\"],\n",
    "    \"Jane\": [\"Python\", \"Database\"],\n",
    "    \"Mary\": [\"Web\", \"Systems\"],\n",
    "    \"Bruce\": [\"Systems\", \"Python\"],\n",
    "    \"Anita\": [\"Web\", \"AI\"]\n",
    "}\n",
    "\n",
    "# positions needed\n",
    "position_list = [\"Python\", \"AI\", \"Web\", \"Database\", \"Systems\"]\n",
    "\n",
    "# Create the CP-SAT model\n",
    "model = cp_model.CpModel()\n",
    "\n",
    "# Variables: 0 if not selected, 1 if selected\n",
    "variables = {person: model.NewBoolVar(person) for person in people_abilities}\n",
    "\n",
    "# Add the Constraints\n",
    "# Select exactly 3 people\n",
    "# Ciara must be selected\n",
    "# Ensure all skills are covered\n",
    "model.Add(sum(variables.values()) == 3)\n",
    "model.Add(variables[\"Ciara\"] == 1)\n",
    "for skill in list_skills:\n",
    "    model.Add(sum(variables[person] for person, skills in people_abilities.items() if skill in skills) >= 1)\n",
    "\n",
    "# Backtracking function \n",
    "def backtrack(assignment, start_index=0):\n",
    "    if len(assignment) == 3 and satisfies_constraints(assignment):\n",
    "        return [sorted(assignment)]  \n",
    "    else:\n",
    "        result = []\n",
    "        for person in variables.keys():\n",
    "            if person not in assignment:\n",
    "                result.extend(backtrack(assignment + [person], start_index))\n",
    "        return result\n",
    "\n",
    "# Constraint satisfaction function\n",
    "def satisfies_constraints(combination):\n",
    "    combined_skills_positions = [skill for person in combination for skill in people_abilities.get(person, [])]\n",
    "    return all(skill in combined_skills_positions for skill in position_list) and \\\n",
    "           sum(\"AI\" in people_abilities[person] for person in combination) >= 2\n",
    "\n",
    "# Print unique combinations \n",
    "unique_combinations = set(map(tuple, backtrack([])))\n",
    "for combination in unique_combinations:\n",
    "    print(\"Combination:\")\n",
    "    for person in combination:\n",
    "        skills = ', '.join(people_abilities[person])\n",
    "        print(f\"{person}: {skills}\")\n",
    "    print()\n",
    "\n",
    "\n"
   ]
  },
  {
   "cell_type": "markdown",
   "id": "6141b859",
   "metadata": {},
   "source": [
    "# Scenario 2"
   ]
  },
  {
   "cell_type": "code",
   "execution_count": 121,
   "id": "d433c874",
   "metadata": {},
   "outputs": [
    {
     "name": "stdout",
     "output_type": "stream",
     "text": [
      "Combination:\n",
      "Anita: Web, AI\n",
      "Jane: Python, Database\n",
      "Jim: AI, Systems\n",
      "Peter: Python, AI\n",
      "\n",
      "Combination:\n",
      "Jane: Python, Database\n",
      "Jim: AI, Systems\n",
      "Juan: Web, AI\n",
      "Peter: Python, AI\n",
      "\n"
     ]
    }
   ],
   "source": [
    "from ortools.sat.python import cp_model\n",
    "\n",
    "\n",
    "# List for the people and abilities\n",
    "people_abilities = {\n",
    "    \"Ciara\": [\"Python\"],\n",
    "    \"Peter\": [\"Python\", \"AI\"],\n",
    "    \"Juan\": [\"Web\", \"AI\"],\n",
    "    \"Jim\": [\"AI\", \"Systems\"],\n",
    "    \"Jane\": [\"Python\", \"Database\"],\n",
    "    \"Mary\": [\"Web\", \"Systems\"],\n",
    "    \"Bruce\": [\"Systems\", \"Python\"],\n",
    "    \"Anita\": [\"Web\", \"AI\"]\n",
    "}\n",
    "\n",
    "# positions needed\n",
    "position_list = [\"Python\", \"AI\", \"Web\", \"Database\", \"Systems\"]\n",
    "\n",
    "# Create the CP-SAT model\n",
    "model = cp_model.CpModel()\n",
    "\n",
    "# Variables: 0 if not selected, 1 if selected\n",
    "variables = {person: model.NewBoolVar(person) for person in people_abilities}\n",
    "\n",
    "# Constraints: \n",
    "# Select exactly 4 people \n",
    "# Ciara and Juan must be selected\n",
    "# Ensure all skills are covered\n",
    "model.Add(sum(variables.values()) == 4)\n",
    "model.Add(variables[\"Ciara\"] == 1)\n",
    "model.Add(variables[\"Juan\"] == 1)\n",
    "for skill in position_list:\n",
    "    model.Add(sum(variables[person] for person, skills in people_abilities.items() if skill in skills) >= 1)\n",
    "\n",
    "# Backtracking function \n",
    "def backtrack(assignment, start_index=0):\n",
    "    if len(assignment) == 4 and satisfies_constraints(assignment):\n",
    "        return [sorted(assignment)]  \n",
    "    else:\n",
    "        result = []\n",
    "        for person in variables.keys():\n",
    "            if person not in assignment:\n",
    "                result.extend(backtrack(assignment + [person], start_index))\n",
    "        return result\n",
    "\n",
    "# Constraint satisfaction function\n",
    "def satisfies_constraints(combination):\n",
    "    combined_skills_position = [skill for person in combination for skill in people_abilities.get(person, [])]\n",
    "    return all(skill in combined_skills_position for skill in position_list) and \\\n",
    "           sum(\"AI\" in people_abilities[person] for person in combination) == 3 and \\\n",
    "           sum(\"Python\" in people_abilities[person] for person in combination) == 2\n",
    "\n",
    "# Print unique combinations \n",
    "unique_combinations = set(map(tuple, backtrack([])))\n",
    "for combination in unique_combinations:\n",
    "    print(\"Combination:\")\n",
    "    for person in combination:\n",
    "        skills = ', '.join(people_abilities[person])\n",
    "        print(f\"{person}: {skills}\")\n",
    "    print()\n",
    "\n"
   ]
  },
  {
   "cell_type": "code",
   "execution_count": null,
   "id": "801731e3",
   "metadata": {},
   "outputs": [],
   "source": []
  }
 ],
 "metadata": {
  "kernelspec": {
   "display_name": "Python 3 (ipykernel)",
   "language": "python",
   "name": "python3"
  },
  "language_info": {
   "codemirror_mode": {
    "name": "ipython",
    "version": 3
   },
   "file_extension": ".py",
   "mimetype": "text/x-python",
   "name": "python",
   "nbconvert_exporter": "python",
   "pygments_lexer": "ipython3",
   "version": "3.11.5"
  }
 },
 "nbformat": 4,
 "nbformat_minor": 5
}
